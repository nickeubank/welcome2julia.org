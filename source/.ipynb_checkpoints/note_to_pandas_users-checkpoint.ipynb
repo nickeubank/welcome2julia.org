{
 "cells": [
  {
   "cell_type": "markdown",
   "metadata": {},
   "source": [
    "# Note to Pandas Users"
   ]
  },
  {
   "cell_type": "markdown",
   "metadata": {},
   "source": [
    "stuff"
   ]
  }
 ],
 "metadata": {
  "kernelspec": {
   "display_name": "Julia 1.4.1",
   "language": "julia",
   "name": "julia-1.4"
  },
  "language_info": {
   "file_extension": ".jl",
   "mimetype": "application/julia",
   "name": "julia",
   "version": "1.4.1"
  }
 },
 "nbformat": 4,
 "nbformat_minor": 4
}
